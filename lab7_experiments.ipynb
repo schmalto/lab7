{
 "cells": [
  {
   "cell_type": "markdown",
   "metadata": {},
   "source": [
    "# Setup "
   ]
  },
  {
   "cell_type": "code",
   "execution_count": 1,
   "metadata": {},
   "outputs": [
    {
     "name": "stderr",
     "output_type": "stream",
     "text": [
      "2023-11-14 00:29:00.186221: E tensorflow/compiler/xla/stream_executor/cuda/cuda_dnn.cc:9342] Unable to register cuDNN factory: Attempting to register factory for plugin cuDNN when one has already been registered\n",
      "2023-11-14 00:29:00.186271: E tensorflow/compiler/xla/stream_executor/cuda/cuda_fft.cc:609] Unable to register cuFFT factory: Attempting to register factory for plugin cuFFT when one has already been registered\n",
      "2023-11-14 00:29:00.186303: E tensorflow/compiler/xla/stream_executor/cuda/cuda_blas.cc:1518] Unable to register cuBLAS factory: Attempting to register factory for plugin cuBLAS when one has already been registered\n",
      "2023-11-14 00:29:00.195045: I tensorflow/core/platform/cpu_feature_guard.cc:182] This TensorFlow binary is optimized to use available CPU instructions in performance-critical operations.\n",
      "To enable the following instructions: AVX2 FMA, in other operations, rebuild TensorFlow with the appropriate compiler flags.\n"
     ]
    },
    {
     "name": "stdout",
     "output_type": "stream",
     "text": [
      "INFO:tensorflow:Mixed precision compatibility check (mixed_float16): OK\n",
      "Your GPU will likely run quickly with dtype policy mixed_float16 as it has compute capability of at least 7.0. Your GPU: NVIDIA GeForce RTX 3060, compute capability 8.6\n"
     ]
    }
   ],
   "source": [
    "import os\n",
    "import scipy\n",
    "import librosa\n",
    "import numpy as np\n",
    "import matplotlib.pyplot as plt\n",
    "import tensorflow.keras as keras\n",
    "from skimage.transform import resize\n",
    "from IPython.display import clear_output\n",
    "from matplotlib.ticker import MaxNLocator\n",
    "from keras.layers import Dense, Dropout, Flatten, Normalization, Conv1D, MaxPool1D, LSTM, Conv2D, MaxPool2D, GRU, BatchNormalization, SimpleRNN\n",
    "import sklearn\n",
    "from sklearn.preprocessing import OneHotEncoder\n",
    "from sklearn.model_selection import cross_val_score\n",
    "from tqdm import tqdm\n",
    "import tensorflow as tf\n",
    "tf.config.run_functions_eagerly(True)\n",
    "from tcn import TCN, tcn_full_summary\n",
    "from tensorflow.keras import mixed_precision\n",
    "\n",
    "policy = mixed_precision.Policy('mixed_float16')\n",
    "mixed_precision.set_global_policy(policy)\n",
    "\n",
    "\n",
    "# our usual useful functions\n",
    "\n",
    "class PlotLossAccuracy(keras.callbacks.Callback):\n",
    "    def on_train_begin(self, logs={}):\n",
    "        self.i = 0\n",
    "        self.x = []\n",
    "        self.acc = []\n",
    "        self.losses = []\n",
    "        self.val_losses = []\n",
    "        self.val_acc = []\n",
    "        self.logs = []\n",
    "\n",
    "    def on_epoch_end(self, epoch, logs={}):\n",
    "\n",
    "        self.logs.append(logs)\n",
    "        self.x.append(int(self.i))\n",
    "        self.losses.append(logs.get('loss'))\n",
    "        self.val_losses.append(logs.get('val_loss'))\n",
    "        self.acc.append(logs.get('accuracy'))\n",
    "        self.val_acc.append(logs.get('val_accuracy'))\n",
    "\n",
    "        self.i += 1\n",
    "\n",
    "        clear_output(wait=True)\n",
    "        plt.figure(figsize=(16, 6))\n",
    "        plt.plot([1, 2])\n",
    "        plt.subplot(121)\n",
    "        plt.plot(self.x, self.losses, label=\"train loss\")\n",
    "        plt.plot(self.x, self.val_losses, label=\"validation loss\")\n",
    "        plt.gca().xaxis.set_major_locator(MaxNLocator(integer=True))\n",
    "        plt.ylabel('loss')\n",
    "        plt.xlabel('epoch')\n",
    "        plt.title('Model Loss')\n",
    "        plt.legend()\n",
    "        plt.subplot(122)\n",
    "        plt.plot(self.x, self.acc, label=\"training accuracy\")\n",
    "        plt.plot(self.x, self.val_acc, label=\"validation accuracy\")\n",
    "        plt.legend()\n",
    "        plt.ylabel('accuracy')\n",
    "        plt.xlabel('epoch')\n",
    "        plt.title('Model Accuracy')\n",
    "        plt.gca().xaxis.set_major_locator(MaxNLocator(integer=True))\n",
    "        plt.show();\n",
    "\n",
    "\n",
    "def save_model_to_disk(model, filename_base):\n",
    "    # save model and weights (don't change the filenames)\n",
    "    model_json = model.to_json()\n",
    "    with open(filename_base + \".json\", \"w\") as json_file:\n",
    "        json_file.write(model_json)\n",
    "    # serialize weights to HDF5\n",
    "    model.save_weights(f\"{filename_base}.h5\")\n",
    "    print(f\"Saved model to {filename_base}.json and weights to {filename_base}.h5\")\n",
    "\n",
    "x_d = np.load('xtrain.npy')\n",
    "y_num = np.load('ytrain_num.npy')\n",
    "y_gender = np.load('ytrain_gender.npy')\n",
    "x_s = np.load('x_spectrum_train.npy')\n",
    "x_d = x_d[:, ::10]\n",
    "\n",
    "def prepare_data(X,Y):\n",
    "    X_train, X_validation, Y_train, Y_validation = sklearn.model_selection.train_test_split(X, Y, test_size=.1)\n",
    "    one_hot_encoder = OneHotEncoder(sparse_output=False)\n",
    "    Y_train = one_hot_encoder.fit_transform(Y_train.reshape(-1, 1))\n",
    "    Y_validation = one_hot_encoder.fit_transform(Y_validation.reshape(-1, 1))\n",
    "    X_train = X_train.reshape(X_train.shape[0], X_train.shape[1], 1, 1)\n",
    "    X_validation = X_validation.reshape(X_validation.shape[0], X_validation.shape[1], 1, 1)\n",
    "    return X_train, X_validation, Y_train, Y_validation\n",
    "\n",
    "def scheduler(epoch, lr):\n",
    "    if epoch < 10:\n",
    "        return lr\n",
    "    else:\n",
    "        return lr * tf.math.exp(-0.1)\n",
    "    \n",
    "c_schedule = tf.keras.callbacks.LearningRateScheduler(scheduler)\n",
    "\n",
    "#X_train, X_validation, Y_train, Y_validation = prepare_data(x_d, y_gender)\n",
    "X_train_spectrum, X_validation_spectrum, Y_train, Y_validation = prepare_data(x_d, y_num)\n",
    "\n"
   ]
  },
  {
   "cell_type": "markdown",
   "metadata": {},
   "source": [
    "# Build this shit"
   ]
  },
  {
   "cell_type": "markdown",
   "metadata": {},
   "source": [
    "## TCN"
   ]
  },
  {
   "cell_type": "code",
   "execution_count": null,
   "metadata": {},
   "outputs": [],
   "source": [
    "inputs = keras.layers.Input(shape=(8000,1,))\n",
    "x = inputs\n",
    "x = BatchNormalization()(x)\n",
    "x = TCN(input_shape=(8000, 1), nb_filters=32, return_sequences=True, dilations=[1, 2, 4, 8, 16, 32])(x)\n",
    "x = BatchNormalization()(x)\n",
    "x = TCN(input_shape=x.shape, nb_filters=16, return_sequences=True, dilations=[1, 2, 4, 8, 16, 32])(x)\n",
    "x = BatchNormalization()(x)\n",
    "x = TCN(input_shape=x.shape, nb_filters=8, return_sequences=False, dilations=[1, 2, 4, 8, 16, 32])(x)\n",
    "\n",
    "\n",
    "#x = Flatten(x)\n",
    "x = Dense(128, activation='relu')(x)\n",
    "x = Dense(64, activation='relu')(x)\n",
    "x = Dense(32, activation='relu')(x)\n",
    "x = Dense(16, activation='relu')(x)\n",
    "predictions = Dense(10, activation='softmax')(x)\n",
    "\n",
    "model = keras.models.Model(inputs=inputs, outputs=predictions)\n",
    "opt = keras.optimizers.Adam(learning_rate=0.0001)\n",
    "model.compile(optimizer=opt,\n",
    "                    loss='categorical_crossentropy',\n",
    "                    metrics=['accuracy'])\n",
    "model.summary()"
   ]
  },
  {
   "cell_type": "markdown",
   "metadata": {},
   "source": [
    "## LSTM"
   ]
  },
  {
   "cell_type": "code",
   "execution_count": null,
   "metadata": {},
   "outputs": [],
   "source": [
    "inputs = keras.layers.Input(shape=(8000,1,))\n",
    "x = inputs\n",
    "\n",
    "x = BatchNormalization()(x)\n",
    "#x = LSTM(64, return_sequences=True)(x)\n",
    "#x = GRU(64, return_sequences=True)(x)\n",
    "x = SimpleRNN(64)(x)\n",
    "\n",
    "x = Flatten()(x)\n",
    "\n",
    "#x = Dropout(0.25)(x)\n",
    "x = Dense(16, activation='relu')(x)\n",
    "x = Dense(8, activation='relu')(x)\n",
    "x = Dense(4, activation='relu')(x)\n",
    "\n",
    "print(x.shape)\n",
    "\n",
    "predictions = Dense(10, activation='softmax')(x)\n",
    "\n",
    "model = keras.models.Model(inputs=inputs, outputs=predictions)\n",
    "opt = keras.optimizers.Adam(learning_rate=0.001)\n",
    "model.compile(optimizer=opt,\n",
    "                    loss='categorical_crossentropy',\n",
    "                    metrics=['accuracy'])\n",
    "model.summary()"
   ]
  },
  {
   "cell_type": "markdown",
   "metadata": {},
   "source": [
    "## Transformer"
   ]
  },
  {
   "cell_type": "code",
   "execution_count": 2,
   "metadata": {},
   "outputs": [
    {
     "name": "stderr",
     "output_type": "stream",
     "text": [
      "2023-11-14 00:29:11.040230: I tensorflow/core/common_runtime/gpu/gpu_device.cc:1886] Created device /job:localhost/replica:0/task:0/device:GPU:0 with 10399 MB memory:  -> device: 0, name: NVIDIA GeForce RTX 3060, pci bus id: 0000:01:00.0, compute capability: 8.6\n"
     ]
    },
    {
     "name": "stdout",
     "output_type": "stream",
     "text": [
      "Model: \"model\"\n",
      "__________________________________________________________________________________________________\n",
      " Layer (type)                Output Shape                 Param #   Connected to                  \n",
      "==================================================================================================\n",
      " input_1 (InputLayer)        [(None, 800, 1)]             0         []                            \n",
      "                                                                                                  \n",
      " multi_head_attention (Mult  (None, 800, 1)               29        ['input_1[0][0]',             \n",
      " iHeadAttention)                                                     'input_1[0][0]']             \n",
      "                                                                                                  \n",
      " dropout (Dropout)           (None, 800, 1)               0         ['multi_head_attention[0][0]']\n",
      "                                                                                                  \n",
      " conv1d (Conv1D)             (None, 800, 4)               8         ['dropout[0][0]']             \n",
      "                                                                                                  \n",
      " dropout_1 (Dropout)         (None, 800, 4)               0         ['conv1d[0][0]']              \n",
      "                                                                                                  \n",
      " conv1d_1 (Conv1D)           (None, 800, 1)               5         ['dropout_1[0][0]']           \n",
      "                                                                                                  \n",
      " add (Add)                   (None, 800, 1)               0         ['dropout[0][0]',             \n",
      "                                                                     'conv1d_1[0][0]']            \n",
      "                                                                                                  \n",
      " layer_normalization (Layer  (None, 800, 1)               2         ['add[0][0]']                 \n",
      " Normalization)                                                                                   \n",
      "                                                                                                  \n",
      " max_pooling1d (MaxPooling1  (None, 200, 1)               0         ['layer_normalization[0][0]'] \n",
      " D)                                                                                               \n",
      "                                                                                                  \n",
      " flatten (Flatten)           (None, 200)                  0         ['max_pooling1d[0][0]']       \n",
      "                                                                                                  \n",
      " dense (Dense)               (None, 24)                   4824      ['flatten[0][0]']             \n",
      "                                                                                                  \n",
      " dropout_2 (Dropout)         (None, 24)                   0         ['dense[0][0]']               \n",
      "                                                                                                  \n",
      " dense_1 (Dense)             (None, 16)                   400       ['dropout_2[0][0]']           \n",
      "                                                                                                  \n",
      " dropout_3 (Dropout)         (None, 16)                   0         ['dense_1[0][0]']             \n",
      "                                                                                                  \n",
      " dense_2 (Dense)             (None, 16)                   272       ['dropout_3[0][0]']           \n",
      "                                                                                                  \n",
      " dense_3 (Dense)             (None, 10)                   170       ['dense_2[0][0]']             \n",
      "                                                                                                  \n",
      "==================================================================================================\n",
      "Total params: 5710 (22.30 KB)\n",
      "Trainable params: 5710 (22.30 KB)\n",
      "Non-trainable params: 0 (0.00 Byte)\n",
      "__________________________________________________________________________________________________\n"
     ]
    }
   ],
   "source": [
    "inputs = keras.layers.Input(shape=(800, 1))\n",
    "x = inputs\n",
    "\n",
    "# Transformer Encoder Block\n",
    "num_heads = 1\n",
    "ff_dim = 4\n",
    "\n",
    "# Multi-head self-attention\n",
    "x = keras.layers.MultiHeadAttention(num_heads=num_heads, key_dim=ff_dim)(x, x)\n",
    "x = Dropout(0.1)(x)\n",
    "residual = x\n",
    "\n",
    "# Feed-forward layer\n",
    "x = Conv1D(filters=ff_dim, kernel_size=1, activation=\"relu\")(x)\n",
    "x = Dropout(0.1)(x)\n",
    "x = Conv1D(filters=1, kernel_size=1)(x)\n",
    "\n",
    "# Add and normalize\n",
    "x = tf.keras.layers.Add()([residual, x])\n",
    "x = keras.layers.LayerNormalization(epsilon=1e-6)(x)\n",
    "\n",
    "# Max pooling\n",
    "x = MaxPool1D(pool_size=4)(x)\n",
    "\n",
    "# Flatten and dense layers\n",
    "x = Flatten()(x)\n",
    "x = Dense(24, activation='relu')(x)\n",
    "x = Dropout(0.3)(x)\n",
    "x = Dense(16, activation='relu')(x)\n",
    "x = Dropout(0.25)(x)\n",
    "x = Dense(16, activation='relu')(x)\n",
    "\n",
    "\n",
    "# Output layer\n",
    "predictions = Dense(10, activation='softmax')(x)\n",
    "\n",
    "# Build model\n",
    "model = keras.models.Model(inputs=inputs, outputs=predictions)\n",
    "\n",
    "# Compile model\n",
    "opt = keras.optimizers.Adam(learning_rate=0.0001)\n",
    "model.compile(optimizer=opt, loss='categorical_crossentropy', metrics=['accuracy'])\n",
    "\n",
    "# Display model summary\n",
    "model.summary()"
   ]
  },
  {
   "cell_type": "markdown",
   "metadata": {},
   "source": [
    "# Training"
   ]
  },
  {
   "cell_type": "code",
   "execution_count": null,
   "metadata": {},
   "outputs": [
    {
     "name": "stdout",
     "output_type": "stream",
     "text": [
      "Epoch 1/300\n"
     ]
    },
    {
     "name": "stderr",
     "output_type": "stream",
     "text": [
      "/usr/local/lib/python3.11/dist-packages/tensorflow/python/data/ops/structured_function.py:258: UserWarning: Even though the `tf.config.experimental_run_functions_eagerly` option is set, this option does not apply to tf.data functions. To force eager execution of tf.data functions, please use `tf.data.experimental.enable_debug_mode()`.\n",
      "  warnings.warn(\n",
      "2023-11-14 00:29:20.648722: I tensorflow/compiler/xla/stream_executor/cuda/cuda_dnn.cc:442] Loaded cuDNN version 8600\n"
     ]
    },
    {
     "name": "stdout",
     "output_type": "stream",
     "text": [
      "124/352 [=========>....................] - ETA: 17s - loss: nan - accuracy: 0.0940"
     ]
    }
   ],
   "source": [
    "num_epochs = 300\n",
    "pltCallBack = PlotLossAccuracy()\n",
    "model.fit(X_train_spectrum, Y_train,\n",
    "        batch_size=64, epochs=num_epochs,\n",
    "        validation_data=(X_validation_spectrum, Y_validation),\n",
    "        callbacks=[c_schedule])\n"
   ]
  },
  {
   "cell_type": "code",
   "execution_count": null,
   "metadata": {},
   "outputs": [],
   "source": [
    "model_1A =  # Figure this out\n",
    "save_model_to_disk(model_1A, 'waveform_gender_model')"
   ]
  },
  {
   "cell_type": "code",
   "execution_count": null,
   "metadata": {},
   "outputs": [],
   "source": [
    "model_1B = # Figure this out\n",
    "save_model_to_disk(model_1B, 'waveform_digit_model')"
   ]
  },
  {
   "cell_type": "code",
   "execution_count": null,
   "metadata": {},
   "outputs": [],
   "source": [
    "model_2A =  # Figure this out\n",
    "save_model_to_disk(model_2A, 'spectrogram_gender_model')"
   ]
  },
  {
   "cell_type": "code",
   "execution_count": null,
   "metadata": {},
   "outputs": [],
   "source": [
    "model_2B = model# Figure this out\n",
    "save_model_to_disk(model_2B, 'spectrogram_digit_model')"
   ]
  },
  {
   "cell_type": "code",
   "execution_count": null,
   "metadata": {},
   "outputs": [],
   "source": []
  }
 ],
 "metadata": {
  "kernelspec": {
   "display_name": "Python 3 (ipykernel)",
   "language": "python",
   "name": "python3"
  },
  "language_info": {
   "codemirror_mode": {
    "name": "ipython",
    "version": 3
   },
   "file_extension": ".py",
   "mimetype": "text/x-python",
   "name": "python",
   "nbconvert_exporter": "python",
   "pygments_lexer": "ipython3",
   "version": "3.10.12"
  }
 },
 "nbformat": 4,
 "nbformat_minor": 4
}
