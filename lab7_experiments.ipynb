{
 "cells": [
  {
   "cell_type": "markdown",
   "metadata": {},
   "source": [
    "# Setup "
   ]
  },
  {
   "cell_type": "code",
   "execution_count": 2,
   "metadata": {},
   "outputs": [
    {
     "name": "stderr",
     "output_type": "stream",
     "text": [
      "2023-11-13 22:27:27.109624: I tensorflow/tsl/cuda/cudart_stub.cc:28] Could not find cuda drivers on your machine, GPU will not be used.\n",
      "2023-11-13 22:27:27.851481: E tensorflow/compiler/xla/stream_executor/cuda/cuda_dnn.cc:9342] Unable to register cuDNN factory: Attempting to register factory for plugin cuDNN when one has already been registered\n",
      "2023-11-13 22:27:27.851563: E tensorflow/compiler/xla/stream_executor/cuda/cuda_fft.cc:609] Unable to register cuFFT factory: Attempting to register factory for plugin cuFFT when one has already been registered\n",
      "2023-11-13 22:27:27.855045: E tensorflow/compiler/xla/stream_executor/cuda/cuda_blas.cc:1518] Unable to register cuBLAS factory: Attempting to register factory for plugin cuBLAS when one has already been registered\n",
      "2023-11-13 22:27:28.192599: I tensorflow/tsl/cuda/cudart_stub.cc:28] Could not find cuda drivers on your machine, GPU will not be used.\n",
      "2023-11-13 22:27:28.195473: I tensorflow/core/platform/cpu_feature_guard.cc:182] This TensorFlow binary is optimized to use available CPU instructions in performance-critical operations.\n",
      "To enable the following instructions: AVX2 FMA, in other operations, rebuild TensorFlow with the appropriate compiler flags.\n",
      "2023-11-13 22:27:31.263751: W tensorflow/compiler/tf2tensorrt/utils/py_utils.cc:38] TF-TRT Warning: Could not find TensorRT\n"
     ]
    }
   ],
   "source": [
    "import os\n",
    "import scipy\n",
    "import librosa\n",
    "import numpy as np\n",
    "import matplotlib.pyplot as plt\n",
    "import tensorflow.keras as keras\n",
    "from skimage.transform import resize\n",
    "from IPython.display import clear_output\n",
    "from matplotlib.ticker import MaxNLocator\n",
    "from keras.layers import Dense, Dropout, Flatten, Normalization, Conv1D, MaxPool1D, LSTM, Conv2D, MaxPool2D, GRU, BatchNormalization, SimpleRNN\n",
    "import sklearn\n",
    "from sklearn.preprocessing import OneHotEncoder\n",
    "from sklearn.model_selection import cross_val_score\n",
    "from tqdm import tqdm\n",
    "import tensorflow as tf\n",
    "tf.config.run_functions_eagerly(True)\n",
    "from tcn import TCN, tcn_full_summary\n",
    "\n",
    "# our usual useful functions\n",
    "\n",
    "class PlotLossAccuracy(keras.callbacks.Callback):\n",
    "    def on_train_begin(self, logs={}):\n",
    "        self.i = 0\n",
    "        self.x = []\n",
    "        self.acc = []\n",
    "        self.losses = []\n",
    "        self.val_losses = []\n",
    "        self.val_acc = []\n",
    "        self.logs = []\n",
    "\n",
    "    def on_epoch_end(self, epoch, logs={}):\n",
    "\n",
    "        self.logs.append(logs)\n",
    "        self.x.append(int(self.i))\n",
    "        self.losses.append(logs.get('loss'))\n",
    "        self.val_losses.append(logs.get('val_loss'))\n",
    "        self.acc.append(logs.get('accuracy'))\n",
    "        self.val_acc.append(logs.get('val_accuracy'))\n",
    "\n",
    "        self.i += 1\n",
    "\n",
    "        clear_output(wait=True)\n",
    "        plt.figure(figsize=(16, 6))\n",
    "        plt.plot([1, 2])\n",
    "        plt.subplot(121)\n",
    "        plt.plot(self.x, self.losses, label=\"train loss\")\n",
    "        plt.plot(self.x, self.val_losses, label=\"validation loss\")\n",
    "        plt.gca().xaxis.set_major_locator(MaxNLocator(integer=True))\n",
    "        plt.ylabel('loss')\n",
    "        plt.xlabel('epoch')\n",
    "        plt.title('Model Loss')\n",
    "        plt.legend()\n",
    "        plt.subplot(122)\n",
    "        plt.plot(self.x, self.acc, label=\"training accuracy\")\n",
    "        plt.plot(self.x, self.val_acc, label=\"validation accuracy\")\n",
    "        plt.legend()\n",
    "        plt.ylabel('accuracy')\n",
    "        plt.xlabel('epoch')\n",
    "        plt.title('Model Accuracy')\n",
    "        plt.gca().xaxis.set_major_locator(MaxNLocator(integer=True))\n",
    "        plt.show();\n",
    "\n",
    "\n",
    "def save_model_to_disk(model, filename_base):\n",
    "    # save model and weights (don't change the filenames)\n",
    "    model_json = model.to_json()\n",
    "    with open(filename_base + \".json\", \"w\") as json_file:\n",
    "        json_file.write(model_json)\n",
    "    # serialize weights to HDF5\n",
    "    model.save_weights(f\"{filename_base}.h5\")\n",
    "    print(f\"Saved model to {filename_base}.json and weights to {filename_base}.h5\")\n",
    "\n",
    "x_d = np.load('xtrain.npy')\n",
    "y_num = np.load('ytrain_num.npy')\n",
    "y_gender = np.load('ytrain_gender.npy')\n",
    "x_s = np.load('x_spectrum_train.npy')\n",
    "\n",
    "def prepare_data(X,Y):\n",
    "    X_train, X_validation, Y_train, Y_validation = sklearn.model_selection.train_test_split(X, Y, test_size=.1)\n",
    "    one_hot_encoder = OneHotEncoder(sparse_output=False)\n",
    "    Y_train = one_hot_encoder.fit_transform(Y_train.reshape(-1, 1))\n",
    "    Y_validation = one_hot_encoder.fit_transform(Y_validation.reshape(-1, 1))\n",
    "    X_train = X_train.reshape(X_train.shape[0], X_train.shape[1], 128, 1)\n",
    "    X_validation = X_validation.reshape(X_validation.shape[0], X_validation.shape[1], 128, 1)\n",
    "    return X_train, X_validation, Y_train, Y_validation\n",
    "\n",
    "def scheduler(epoch, lr):\n",
    "    if epoch < 10:\n",
    "        return lr\n",
    "    else:\n",
    "        return lr * tf.math.exp(-0.1)\n",
    "    \n",
    "c_schedule = tf.keras.callbacks.LearningRateScheduler(scheduler)\n",
    "\n",
    "#X_train, X_validation, Y_train, Y_validation = prepare_data(x_d, y_gender)\n",
    "X_train_spectrum, X_validation_spectrum, Y_train, Y_validation = prepare_data(x_s, y_num)\n",
    "\n"
   ]
  },
  {
   "cell_type": "markdown",
   "metadata": {},
   "source": [
    "# Build this shit"
   ]
  },
  {
   "cell_type": "markdown",
   "metadata": {},
   "source": [
    "## TCN"
   ]
  },
  {
   "cell_type": "code",
   "execution_count": 7,
   "metadata": {},
   "outputs": [
    {
     "name": "stdout",
     "output_type": "stream",
     "text": [
      "Model: \"model_4\"\n",
      "_________________________________________________________________\n",
      " Layer (type)                Output Shape              Param #   \n",
      "=================================================================\n",
      " input_5 (InputLayer)        [(None, 8000, 1)]         0         \n",
      "                                                                 \n",
      " tcn_7 (TCN)                 (None, 8000, 64)          136256    \n",
      "                                                                 \n",
      " tcn_8 (TCN)                 (None, 8000, 32)          42400     \n",
      "                                                                 \n",
      " tcn_9 (TCN)                 (None, 16)                10704     \n",
      "                                                                 \n",
      " dense_7 (Dense)             (None, 10)                170       \n",
      "                                                                 \n",
      "=================================================================\n",
      "Total params: 189530 (740.35 KB)\n",
      "Trainable params: 189530 (740.35 KB)\n",
      "Non-trainable params: 0 (0.00 Byte)\n",
      "_________________________________________________________________\n"
     ]
    }
   ],
   "source": [
    "inputs = keras.layers.Input(shape=(8000,1,))\n",
    "x = inputs\n",
    "#x = BatchNormalization()\n",
    "x = TCN(input_shape=(8000, 1), nb_filters=64, return_sequences=True, dilations=[1, 2, 4, 8, 16, 32])(x)\n",
    "x = TCN(input_shape=x.shape, nb_filters=32, return_sequences=True, dilations=[1, 2, 4, 8, 16, 32])(x)\n",
    "x = TCN(input_shape=x.shape, nb_filters=16, return_sequences=False, dilations=[1, 2, 4, 8, 16, 32])(x)\n",
    "\n",
    "\n",
    "#x = Flatten(x)\n",
    "predictions = Dense(10, activation='softmax')(x)\n",
    "\n",
    "model = keras.models.Model(inputs=inputs, outputs=predictions)\n",
    "opt = keras.optimizers.Adam(learning_rate=0.001)\n",
    "model.compile(optimizer=opt,\n",
    "                    loss='categorical_crossentropy',\n",
    "                    metrics=['accuracy'])\n",
    "model.summary()"
   ]
  },
  {
   "cell_type": "markdown",
   "metadata": {},
   "source": [
    "## LSTM"
   ]
  },
  {
   "cell_type": "code",
   "execution_count": 11,
   "metadata": {},
   "outputs": [
    {
     "name": "stdout",
     "output_type": "stream",
     "text": [
      "Model: \"model_5\"\n",
      "_________________________________________________________________\n",
      " Layer (type)                Output Shape              Param #   \n",
      "=================================================================\n",
      " input_8 (InputLayer)        [(None, 8000, 1)]         0         \n",
      "                                                                 \n",
      " batch_normalization_4 (Bat  (None, 8000, 1)           4         \n",
      " chNormalization)                                                \n",
      "                                                                 \n",
      " simple_rnn_4 (SimpleRNN)    (None, 64)                4224      \n",
      "                                                                 \n",
      " flatten_5 (Flatten)         (None, 64)                0         \n",
      "                                                                 \n",
      " dense_17 (Dense)            (None, 16)                1040      \n",
      "                                                                 \n",
      " dense_18 (Dense)            (None, 8)                 136       \n",
      "                                                                 \n",
      " dense_19 (Dense)            (None, 4)                 36        \n",
      "                                                                 \n",
      " dense_20 (Dense)            (None, 2)                 10        \n",
      "                                                                 \n",
      "=================================================================\n",
      "Total params: 5450 (21.29 KB)\n",
      "Trainable params: 5448 (21.28 KB)\n",
      "Non-trainable params: 2 (8.00 Byte)\n",
      "_________________________________________________________________\n"
     ]
    }
   ],
   "source": [
    "inputs = keras.layers.Input(shape=(8000,1,))\n",
    "x = inputs\n",
    "\n",
    "x = BatchNormalization()(x)\n",
    "#x = LSTM(64, return_sequences=True)(x)\n",
    "#x = GRU(64, return_sequences=True)(x)\n",
    "x = SimpleRNN(64)(x)\n",
    "\n",
    "x = Flatten()(x)\n",
    "\n",
    "#x = Dropout(0.25)(x)\n",
    "x = Dense(16, activation='relu')(x)\n",
    "x = Dense(8, activation='relu')(x)\n",
    "x = Dense(4, activation='relu')(x)\n",
    "\n",
    "\n",
    "predictions = Dense(10, activation='softmax')(x)\n",
    "\n",
    "model = keras.models.Model(inputs=inputs, outputs=predictions)\n",
    "opt = keras.optimizers.Adam(learning_rate=0.001)\n",
    "model.compile(optimizer=opt,\n",
    "                    loss='categorical_crossentropy',\n",
    "                    metrics=['accuracy'])\n",
    "model.summary()"
   ]
  },
  {
   "cell_type": "markdown",
   "metadata": {},
   "source": [
    "## Transformer"
   ]
  },
  {
   "cell_type": "code",
   "execution_count": 4,
   "metadata": {},
   "outputs": [
    {
     "name": "stdout",
     "output_type": "stream",
     "text": [
      "Model: \"model_1\"\n",
      "__________________________________________________________________________________________________\n",
      " Layer (type)                Output Shape                 Param #   Connected to                  \n",
      "==================================================================================================\n",
      " input_2 (InputLayer)        [(None, 8000, 1)]            0         []                            \n",
      "                                                                                                  \n",
      " multi_head_attention (Mult  (None, 8000, 1)              3585      ['input_2[0][0]',             \n",
      " iHeadAttention)                                                     'input_2[0][0]']             \n",
      "                                                                                                  \n",
      " dropout (Dropout)           (None, 8000, 1)              0         ['multi_head_attention[0][0]']\n",
      "                                                                                                  \n",
      " conv1d (Conv1D)             (None, 8000, 64)             128       ['dropout[0][0]']             \n",
      "                                                                                                  \n",
      " dropout_1 (Dropout)         (None, 8000, 64)             0         ['conv1d[0][0]']              \n",
      "                                                                                                  \n",
      " conv1d_1 (Conv1D)           (None, 8000, 1)              65        ['dropout_1[0][0]']           \n",
      "                                                                                                  \n",
      " add (Add)                   (None, 8000, 1)              0         ['dropout[0][0]',             \n",
      "                                                                     'conv1d_1[0][0]']            \n",
      "                                                                                                  \n",
      " layer_normalization (Layer  (None, 8000, 1)              2         ['add[0][0]']                 \n",
      " Normalization)                                                                                   \n",
      "                                                                                                  \n",
      " max_pooling1d (MaxPooling1  (None, 2000, 1)              0         ['layer_normalization[0][0]'] \n",
      " D)                                                                                               \n",
      "                                                                                                  \n",
      " flatten (Flatten)           (None, 2000)                 0         ['max_pooling1d[0][0]']       \n",
      "                                                                                                  \n",
      " dense_1 (Dense)             (None, 24)                   48024     ['flatten[0][0]']             \n",
      "                                                                                                  \n",
      " dropout_2 (Dropout)         (None, 24)                   0         ['dense_1[0][0]']             \n",
      "                                                                                                  \n",
      " dense_2 (Dense)             (None, 16)                   400       ['dropout_2[0][0]']           \n",
      "                                                                                                  \n",
      " dropout_3 (Dropout)         (None, 16)                   0         ['dense_2[0][0]']             \n",
      "                                                                                                  \n",
      " dense_3 (Dense)             (None, 16)                   272       ['dropout_3[0][0]']           \n",
      "                                                                                                  \n",
      " dense_4 (Dense)             (None, 10)                   170       ['dense_3[0][0]']             \n",
      "                                                                                                  \n",
      "==================================================================================================\n",
      "Total params: 52646 (205.65 KB)\n",
      "Trainable params: 52646 (205.65 KB)\n",
      "Non-trainable params: 0 (0.00 Byte)\n",
      "__________________________________________________________________________________________________\n"
     ]
    }
   ],
   "source": [
    "inputs = keras.layers.Input(shape=(8000, 1))\n",
    "x = inputs\n",
    "\n",
    "# Transformer Encoder Block\n",
    "num_heads = 8\n",
    "ff_dim = 64\n",
    "\n",
    "# Multi-head self-attention\n",
    "x = keras.layers.MultiHeadAttention(num_heads=num_heads, key_dim=ff_dim)(x, x)\n",
    "x = Dropout(0.1)(x)\n",
    "residual = x\n",
    "\n",
    "# Feed-forward layer\n",
    "x = Conv1D(filters=ff_dim, kernel_size=1, activation=\"relu\")(x)\n",
    "x = Dropout(0.1)(x)\n",
    "x = Conv1D(filters=1, kernel_size=1)(x)\n",
    "\n",
    "# Add and normalize\n",
    "x = tf.keras.layers.Add()([residual, x])\n",
    "x = keras.layers.LayerNormalization(epsilon=1e-6)(x)\n",
    "\n",
    "# Max pooling\n",
    "x = MaxPool1D(pool_size=4)(x)\n",
    "\n",
    "# Flatten and dense layers\n",
    "x = Flatten()(x)\n",
    "x = Dense(24, activation='relu')(x)\n",
    "x = Dropout(0.3)(x)\n",
    "x = Dense(16, activation='relu')(x)\n",
    "x = Dropout(0.25)(x)\n",
    "x = Dense(16, activation='relu')(x)\n",
    "\n",
    "# Output layer\n",
    "predictions = Dense(10, activation='softmax')(x)\n",
    "\n",
    "# Build model\n",
    "model = keras.models.Model(inputs=inputs, outputs=predictions)\n",
    "\n",
    "# Compile model\n",
    "opt = keras.optimizers.Adam(learning_rate=0.0001)\n",
    "model.compile(optimizer=opt, loss='categorical_crossentropy', metrics=['accuracy'])\n",
    "\n",
    "# Display model summary\n",
    "model.summary()"
   ]
  },
  {
   "cell_type": "markdown",
   "metadata": {},
   "source": [
    "# Training"
   ]
  },
  {
   "cell_type": "code",
   "execution_count": 17,
   "metadata": {},
   "outputs": [],
   "source": [
    "num_epochs = 300\n",
    "pltCallBack = PlotLossAccuracy()\n",
    "model.fit(X_train_spectrum, Y_train,\n",
    "        batch_size=64, epochs=num_epochs,\n",
    "        validation_data=(X_validation_spectrum, Y_validation),\n",
    "        callbacks=[pltCallBack, c_schedule])\n"
   ]
  },
  {
   "cell_type": "code",
   "execution_count": null,
   "metadata": {},
   "outputs": [],
   "source": [
    "model_1A =  # Figure this out\n",
    "save_model_to_disk(model_1A, 'waveform_gender_model')"
   ]
  },
  {
   "cell_type": "code",
   "execution_count": null,
   "metadata": {},
   "outputs": [],
   "source": [
    "model_1B = # Figure this out\n",
    "save_model_to_disk(model_1B, 'waveform_digit_model')"
   ]
  },
  {
   "cell_type": "code",
   "execution_count": null,
   "metadata": {},
   "outputs": [
    {
     "name": "stdout",
     "output_type": "stream",
     "text": [
      "Saved model to spectrogram_gender_model.json and weights to spectrogram_gender_model.h5\n"
     ]
    }
   ],
   "source": [
    "model_2A =  # Figure this out\n",
    "save_model_to_disk(model_2A, 'spectrogram_gender_model')"
   ]
  },
  {
   "cell_type": "code",
   "execution_count": null,
   "metadata": {},
   "outputs": [
    {
     "name": "stdout",
     "output_type": "stream",
     "text": [
      "Saved model to spectrogram_digit_model.json and weights to spectrogram_digit_model.h5\n"
     ]
    }
   ],
   "source": [
    "model_2B = model# Figure this out\n",
    "save_model_to_disk(model_2B, 'spectrogram_digit_model')"
   ]
  },
  {
   "cell_type": "code",
   "execution_count": null,
   "metadata": {},
   "outputs": [],
   "source": []
  }
 ],
 "metadata": {
  "kernelspec": {
   "display_name": "Python 3 (ipykernel)",
   "language": "python",
   "name": "python3"
  },
  "language_info": {
   "codemirror_mode": {
    "name": "ipython",
    "version": 3
   },
   "file_extension": ".py",
   "mimetype": "text/x-python",
   "name": "python",
   "nbconvert_exporter": "python",
   "pygments_lexer": "ipython3",
   "version": "3.10.12"
  }
 },
 "nbformat": 4,
 "nbformat_minor": 4
}
