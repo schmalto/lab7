{
 "cells": [
  {
   "cell_type": "code",
   "execution_count": 8,
   "metadata": {},
   "outputs": [],
   "source": [
    "import os\n",
    "import scipy\n",
    "import librosa\n",
    "import numpy as np\n",
    "import matplotlib.pyplot as plt\n",
    "import tensorflow.keras as keras\n",
    "from skimage.transform import resize\n",
    "from IPython.display import clear_output\n",
    "from matplotlib.ticker import MaxNLocator\n",
    "from keras.layers import Dense, Dropout, Flatten, Normalization, Conv1D, MaxPool1D, LSTM\n",
    "import sklearn\n",
    "from sklearn.preprocessing import OneHotEncoder\n",
    "from sklearn.model_selection import cross_val_score\n",
    "from tqdm import tqdm\n",
    "import tensorflow as tf\n",
    "\n"
   ]
  },
  {
   "cell_type": "code",
   "execution_count": 9,
   "metadata": {},
   "outputs": [],
   "source": [
    "# our usual useful functions\n",
    "\n",
    "class PlotLossAccuracy(keras.callbacks.Callback):\n",
    "    def on_train_begin(self, logs={}):\n",
    "        self.i = 0\n",
    "        self.x = []\n",
    "        self.acc = []\n",
    "        self.losses = []\n",
    "        self.val_losses = []\n",
    "        self.val_acc = []\n",
    "        self.logs = []\n",
    "\n",
    "    def on_epoch_end(self, epoch, logs={}):\n",
    "\n",
    "        self.logs.append(logs)\n",
    "        self.x.append(int(self.i))\n",
    "        self.losses.append(logs.get('loss'))\n",
    "        self.val_losses.append(logs.get('val_loss'))\n",
    "        self.acc.append(logs.get('accuracy'))\n",
    "        self.val_acc.append(logs.get('val_accuracy'))\n",
    "\n",
    "        self.i += 1\n",
    "\n",
    "        clear_output(wait=True)\n",
    "        plt.figure(figsize=(16, 6))\n",
    "        plt.plot([1, 2])\n",
    "        plt.subplot(121)\n",
    "        plt.plot(self.x, self.losses, label=\"train loss\")\n",
    "        plt.plot(self.x, self.val_losses, label=\"validation loss\")\n",
    "        plt.gca().xaxis.set_major_locator(MaxNLocator(integer=True))\n",
    "        plt.ylabel('loss')\n",
    "        plt.xlabel('epoch')\n",
    "        plt.title('Model Loss')\n",
    "        plt.legend()\n",
    "        plt.subplot(122)\n",
    "        plt.plot(self.x, self.acc, label=\"training accuracy\")\n",
    "        plt.plot(self.x, self.val_acc, label=\"validation accuracy\")\n",
    "        plt.legend()\n",
    "        plt.ylabel('accuracy')\n",
    "        plt.xlabel('epoch')\n",
    "        plt.title('Model Accuracy')\n",
    "        plt.gca().xaxis.set_major_locator(MaxNLocator(integer=True))\n",
    "        plt.show();\n",
    "\n",
    "\n",
    "def save_model_to_disk(model, filename_base):\n",
    "    # save model and weights (don't change the filenames)\n",
    "    model_json = model.to_json()\n",
    "    with open(filename_base + \".json\", \"w\") as json_file:\n",
    "        json_file.write(model_json)\n",
    "    # serialize weights to HDF5\n",
    "    model.save_weights(f\"{filename_base}.h5\")\n",
    "    print(f\"Saved model to {filename_base}.json and weights to {filename_base}.h5\")"
   ]
  },
  {
   "cell_type": "code",
   "execution_count": 10,
   "metadata": {},
   "outputs": [],
   "source": [
    "x_d = np.load('xtrain.npy')\n",
    "y_num = np.load('ytrain_num.npy')\n",
    "y_gender = np.load('ytrain_gender.npy')\n",
    "x_s = np.load('x_spectrum_train.npy')\n"
   ]
  },
  {
   "cell_type": "code",
   "execution_count": 11,
   "metadata": {},
   "outputs": [
    {
     "name": "stderr",
     "output_type": "stream",
     "text": [
      "100%|██████████| 25000/25000 [02:35<00:00, 160.37it/s]\n"
     ]
    }
   ],
   "source": [
    "def spectrum_data(audio_tracks):\n",
    "    X = np.empty((25000,128, 128))\n",
    "    for i, audio_track in enumerate(tqdm(audio_tracks)):        \n",
    "        f, t, Zxx = scipy.signal.stft(audio_track, 8000, nperseg=455, noverlap=393, window='hann')\n",
    "        Zxx_ = np.abs(Zxx[0:227, 2:-1])\n",
    "        Zxx_ = np.atleast_3d(Zxx_).transpose(2,0,1)\n",
    "        Zxx_ = librosa.amplitude_to_db(Zxx_, ref=np.max)\n",
    "        Zxx_ = resize(Zxx_, (1, 128, 128))\n",
    "        X[i] = Zxx_\n",
    "    return X\n",
    "\n"
   ]
  },
  {
   "cell_type": "code",
   "execution_count": 38,
   "metadata": {},
   "outputs": [],
   "source": [
    "def prepare_data(X,Y):\n",
    "    X_train, X_validation, Y_train, Y_validation = sklearn.model_selection.train_test_split(X, Y, test_size=.1)\n",
    "    one_hot_encoder = OneHotEncoder(sparse_output=False)\n",
    "    Y_train = one_hot_encoder.fit_transform(Y_train.reshape(-1, 1))\n",
    "    Y_validation = one_hot_encoder.fit_transform(Y_validation.reshape(-1, 1))\n",
    "    X_train = X_train.reshape(X_train.shape[0], X_train.shape[1], 1, 1)\n",
    "    X_validation = X_validation.reshape(X_validation.shape[0], X_validation.shape[1], 1, 1)\n",
    "    return X_train, X_validation, Y_train, Y_validation\n",
    "\n",
    "#X_train, X_validation, Y_train, Y_validation = prepare_data(x_d, y_gender)\n",
    "X_train_spectrum, X_validation_spectrum, Y_train, Y_validation = prepare_data(x_s, y_num)\n",
    "\n"
   ]
  },
  {
   "cell_type": "code",
   "execution_count": null,
   "metadata": {},
   "outputs": [],
   "source": [
    "def scheduler(epoch, lr):\n",
    "    if epoch < 10:\n",
    "        return lr\n",
    "    else:\n",
    "        return lr * tf.math.exp(-0.1)\n",
    "c_schedule = tf.keras.callbacks.LearningRateScheduler(scheduler)"
   ]
  },
  {
   "cell_type": "markdown",
   "metadata": {},
   "source": [
    "**Exercise 1A**"
   ]
  },
  {
   "cell_type": "code",
   "execution_count": null,
   "metadata": {},
   "outputs": [],
   "source": [
    "inputs = keras.layers.Input(shape=(8000,1))\n",
    "x = inputs\n",
    "\n",
    "x = Conv1D(16, 3, activation='relu', strides=(1))(x)\n",
    "x = Conv1D(16, 3, activation='relu', strides=(1))(x)\n",
    "x = Conv1D(16, 3, activation='relu', strides=(1))(x)\n",
    "x = MaxPool1D(4, name='second_layer')(x)\n",
    "x = Dropout(0.25)(x)\n",
    "\n",
    "x = Conv1D(8, 3, activation='relu', strides=(1))(x)\n",
    "x = Conv1D(8, 3, activation='relu', strides=(1))(x)\n",
    "x = Conv1D(8, 3, activation='relu', strides=(1))(x)\n",
    "x = MaxPool1D(2, name='end_layer')(x)\n",
    "x = Dropout(0.25)(x)\n",
    "\n",
    "x = Flatten()(x)\n",
    "\n",
    "x = Dropout(0.25)(x)\n",
    "x = Dense(6, activation='relu')(x)\n",
    "\n",
    "predictions = Dense(2, activation='sigmoid')(x)\n",
    "\n",
    "model = keras.models.Model(inputs=inputs, outputs=predictions)\n",
    "opt = keras.optimizers.Adam(learning_rate=0.0001)\n",
    "model.compile(optimizer=opt,\n",
    "                    loss='binary_crossentropy',\n",
    "                    metrics=['accuracy'])\n",
    "model.summary()"
   ]
  },
  {
   "cell_type": "markdown",
   "metadata": {},
   "source": [
    "**Exercise 1B**"
   ]
  },
  {
   "cell_type": "code",
   "execution_count": null,
   "metadata": {},
   "outputs": [],
   "source": [
    "inputs = keras.layers.Input(shape=(8000,1))\n",
    "x = inputs  # Don't flatten until after your 2D layers\n",
    "print(x.shape)\n",
    "x = Conv1D(64, 3, activation='relu', strides=(1))(x)\n",
    "x = Conv1D(64, 3, activation='relu', strides=(1))(x)\n",
    "x = Conv1D(64, 3, activation='relu', strides=(1))(x)\n",
    "x = MaxPool1D(4, name='first_layer')(x)\n",
    "  #x = Dropout(0.25)(x)\n",
    "x = Dropout(0.25)(x)\n",
    "\n",
    "\n",
    "x = Conv1D(32, 3, activation='relu', strides=(1))(x)\n",
    "x = Conv1D(32, 3, activation='relu', strides=(1))(x)\n",
    "x = Conv1D(32, 3, activation='relu', strides=(1))(x)\n",
    "x = MaxPool1D(4, name='second_layer')(x)\n",
    "x = Dropout(0.25)(x)\n",
    "\n",
    "\n",
    "x = Conv1D(8, 3, activation='relu', strides=(1))(x)\n",
    "x = Conv1D(8, 3, activation='relu', strides=(1))(x)\n",
    "x = Conv1D(8, 3, activation='relu', strides=(1))(x)\n",
    "x = MaxPool1D(4, name='end_layer')(x)\n",
    "x = Dropout(0.25)(x)\n",
    "\n",
    "x = Flatten()(x)\n",
    "print(x.shape)\n",
    "#x = Dense(512, activation='relu')(x)\n",
    "x = Dense(24, activation='relu')(x)\n",
    "#x = Dropout(0.5)(x)\n",
    "x = Dropout(0.3)(x)\n",
    "#x = Dense(128, activation='relu')(x)\n",
    "x = Dense(16, activation='relu')(x)\n",
    "x = Dropout(0.25)(x)\n",
    "x = Dense(16, activation='relu')(x)\n",
    "\n",
    "\n",
    "predictions = Dense(10, activation='softmax')(x)\n",
    "\n",
    "model = keras.models.Model(inputs=inputs, outputs=predictions)\n",
    "opt = keras.optimizers.Adam(learning_rate=0.0001)\n",
    "model.compile(optimizer=opt,\n",
    "                    loss='categorical_crossentropy',\n",
    "                    metrics=['accuracy'])\n",
    "model.summary()"
   ]
  },
  {
   "cell_type": "markdown",
   "metadata": {
    "slideshow": {
     "slide_type": "notes"
    }
   },
   "source": [
    "** LSTM **"
   ]
  },
  {
   "cell_type": "code",
   "execution_count": null,
   "metadata": {},
   "outputs": [],
   "source": [
    "print(X_train_spectrum.shape)\n",
    "inputs = keras.layers.Input(shape=(8000,1,1))\n",
    "x = inputs\n",
    "\n",
    "x = LSTM(16, return_sequences=True)(inputs)\n",
    "x = LSTM(8)(x)\n",
    "\n",
    "x = Flatten()(x)\n",
    "\n",
    "#x = Dropout(0.25)(x)\n",
    "#x = Dense(16, activation='relu')(x)\n",
    "#x = Dense(8, activation='relu')(x)\n",
    "#x = Dense(4, activation='relu')(x)\n",
    "\n",
    "\n",
    "predictions = Dense(2, activation='sigmoid')(x)\n",
    "\n",
    "model = keras.models.Model(inputs=inputs, outputs=predictions)\n",
    "opt = keras.optimizers.Adam(learning_rate=0.001)\n",
    "model.compile(optimizer=opt,\n",
    "                    loss='binary_crossentropy',\n",
    "                    metrics=['accuracy'])\n",
    "model.summary()"
   ]
  },
  {
   "cell_type": "markdown",
   "metadata": {},
   "source": [
    "** Exercise 2A **"
   ]
  },
  {
   "cell_type": "code",
   "execution_count": null,
   "metadata": {},
   "outputs": [],
   "source": [
    "inputs = keras.layers.Input(shape=(128,128,1))\n",
    "x = inputs\n",
    "\n",
    "x = Conv1D(16, 3, activation='relu', strides=(1))(x)\n",
    "x = Conv1D(16, 3, activation='relu', strides=(1))(x)\n",
    "x = Conv1D(16, 3, activation='relu', strides=(1))(x)\n",
    "x = MaxPool1D(4, name='second_layer')(x)\n",
    "x = Dropout(0.25)(x)\n",
    "\n",
    "x = Conv1D(8, 3, activation='relu', strides=(1))(x)\n",
    "x = Conv1D(8, 3, activation='relu', strides=(1))(x)\n",
    "x = Conv1D(8, 3, activation='relu', strides=(1))(x)\n",
    "x = MaxPool1D(2, name='end_layer')(x)\n",
    "x = Dropout(0.25)(x)\n",
    "\n",
    "x = Flatten()(x)\n",
    "\n",
    "x = Dropout(0.225)(x)\n",
    "x = Dense(8, activation='relu')(x)\n",
    "#x = Dropout(0.25)(x)\n",
    "#x = Dense(4, activation='sigmoid')(x)\n",
    "\n",
    "predictions = Dense(2, activation='sigmoid')(x)\n",
    "\n",
    "model = keras.models.Model(inputs=inputs, outputs=predictions)\n",
    "opt = keras.optimizers.Adam(learning_rate=0.001)\n",
    "model.compile(optimizer=opt,\n",
    "                    loss='binary_crossentropy',\n",
    "                    metrics=['accuracy'])\n",
    "model.summary()"
   ]
  },
  {
   "cell_type": "markdown",
   "metadata": {},
   "source": [
    "** Aufgabe 2B **"
   ]
  },
  {
   "cell_type": "code",
   "execution_count": 39,
   "metadata": {},
   "outputs": [
    {
     "name": "stdout",
     "output_type": "stream",
     "text": [
      "(None, 8000, 1)\n",
      "(None, 984)\n",
      "Model: \"model_13\"\n",
      "_________________________________________________________________\n",
      " Layer (type)                Output Shape              Param #   \n",
      "=================================================================\n",
      " input_14 (InputLayer)       [(None, 8000, 1)]         0         \n",
      "                                                                 \n",
      " conv1d_78 (Conv1D)          (None, 7998, 64)          256       \n",
      "                                                                 \n",
      " conv1d_79 (Conv1D)          (None, 7996, 64)          12352     \n",
      "                                                                 \n",
      " conv1d_80 (Conv1D)          (None, 7994, 64)          12352     \n",
      "                                                                 \n",
      " first_layer (MaxPooling1D)  (None, 1998, 64)          0         \n",
      "                                                                 \n",
      " dropout_39 (Dropout)        (None, 1998, 64)          0         \n",
      "                                                                 \n",
      " conv1d_81 (Conv1D)          (None, 1996, 32)          6176      \n",
      "                                                                 \n",
      " conv1d_82 (Conv1D)          (None, 1994, 32)          3104      \n",
      "                                                                 \n",
      " conv1d_83 (Conv1D)          (None, 1992, 32)          3104      \n",
      "                                                                 \n",
      " second_layer (MaxPooling1D  (None, 498, 32)           0         \n",
      " )                                                               \n",
      "                                                                 \n",
      " dropout_40 (Dropout)        (None, 498, 32)           0         \n",
      "                                                                 \n",
      " conv1d_84 (Conv1D)          (None, 496, 8)            776       \n",
      "                                                                 \n",
      " conv1d_85 (Conv1D)          (None, 494, 8)            200       \n",
      "                                                                 \n",
      " conv1d_86 (Conv1D)          (None, 492, 8)            200       \n",
      "                                                                 \n",
      " end_layer (MaxPooling1D)    (None, 123, 8)            0         \n",
      "                                                                 \n",
      " dropout_41 (Dropout)        (None, 123, 8)            0         \n",
      "                                                                 \n",
      " flatten_13 (Flatten)        (None, 984)               0         \n",
      "                                                                 \n",
      " dense_31 (Dense)            (None, 24)                23640     \n",
      "                                                                 \n",
      " dropout_42 (Dropout)        (None, 24)                0         \n",
      "                                                                 \n",
      " dense_32 (Dense)            (None, 16)                400       \n",
      "                                                                 \n",
      " dropout_43 (Dropout)        (None, 16)                0         \n",
      "                                                                 \n",
      " dense_33 (Dense)            (None, 16)                272       \n",
      "                                                                 \n",
      " dense_34 (Dense)            (None, 10)                170       \n",
      "                                                                 \n",
      "=================================================================\n",
      "Total params: 63002 (246.10 KB)\n",
      "Trainable params: 63002 (246.10 KB)\n",
      "Non-trainable params: 0 (0.00 Byte)\n",
      "_________________________________________________________________\n"
     ]
    }
   ],
   "source": [
    "inputs = keras.layers.Input(shape=(128,128,1))\n",
    "x = inputs  # Don't flatten until after your 2D layers\n",
    "x = Conv1D(64, 3, activation='relu', strides=(1))(x)\n",
    "x = Conv1D(64, 3, activation='relu', strides=(1))(x)\n",
    "x = Conv1D(64, 3, activation='relu', strides=(1))(x)\n",
    "x = MaxPool1D(4, name='first_layer')(x)\n",
    "  #x = Dropout(0.25)(x)\n",
    "x = Dropout(0.25)(x)\n",
    "\n",
    "\n",
    "x = Conv1D(32, 3, activation='relu', strides=(1))(x)\n",
    "x = Conv1D(32, 3, activation='relu', strides=(1))(x)\n",
    "x = Conv1D(32, 3, activation='relu', strides=(1))(x)\n",
    "x = MaxPool1D(4, name='second_layer')(x)\n",
    "x = Dropout(0.25)(x)\n",
    "\n",
    "\n",
    "x = Conv1D(8, 3, activation='relu', strides=(1))(x)\n",
    "x = Conv1D(8, 3, activation='relu', strides=(1))(x)\n",
    "x = Conv1D(8, 3, activation='relu', strides=(1))(x)\n",
    "x = MaxPool1D(4, name='end_layer')(x)\n",
    "x = Dropout(0.25)(x)\n",
    "\n",
    "x = Flatten()(x)\n",
    "#x = Dense(512, activation='relu')(x)\n",
    "x = Dense(24, activation='relu')(x)\n",
    "#x = Dropout(0.5)(x)\n",
    "x = Dropout(0.3)(x)\n",
    "#x = Dense(128, activation='relu')(x)\n",
    "x = Dense(16, activation='relu')(x)\n",
    "x = Dropout(0.25)(x)\n",
    "x = Dense(16, activation='relu')(x)\n",
    "\n",
    "\n",
    "predictions = Dense(10, activation='softmax')(x)\n",
    "\n",
    "model = keras.models.Model(inputs=inputs, outputs=predictions)\n",
    "opt = keras.optimizers.Adam(learning_rate=0.0001)\n",
    "model.compile(optimizer=opt,\n",
    "                    loss='categorical_crossentropy',\n",
    "                    metrics=['accuracy'])\n",
    "model.summary()"
   ]
  },
  {
   "cell_type": "code",
   "execution_count": null,
   "metadata": {},
   "outputs": [
    {
     "data": {
      "image/png": "[encoded data removed]",
      "text/plain": [
       "<Figure size 1600x600 with 3 Axes>"
      ]
     },
     "metadata": {},
     "output_type": "display_data"
    },
    {
     "name": "stdout",
     "output_type": "stream",
     "text": [
      "88/88 [==============================] - 23s 256ms/step - loss: 2.3240 - accuracy: 0.1056 - val_loss: 2.3017 - val_accuracy: 0.1168 - lr: 1.0000e-04\n",
      "Epoch 3/300\n",
      "69/88 [======================>.......] - ETA: 4s - loss: 2.3112 - accuracy: 0.1051"
     ]
    }
   ],
   "source": [
    "num_epochs = 300\n",
    "pltCallBack = PlotLossAccuracy()\n",
    "model.fit(X_train_spectrum, Y_train,\n",
    "        batch_size=256, epochs=num_epochs,\n",
    "        validation_data=(X_validation_spectrum, Y_validation),\n",
    "        callbacks=[pltCallBack, c_schedule])\n"
   ]
  },
  {
   "cell_type": "code",
   "execution_count": null,
   "metadata": {},
   "outputs": [],
   "source": [
    "model_1A =  # Figure this out\n",
    "save_model_to_disk(model_1A, 'waveform_gender_model')"
   ]
  },
  {
   "cell_type": "code",
   "execution_count": null,
   "metadata": {},
   "outputs": [],
   "source": [
    "model_1B = # Figure this out\n",
    "save_model_to_disk(model_1B, 'waveform_digit_model')"
   ]
  },
  {
   "cell_type": "code",
   "execution_count": null,
   "metadata": {},
   "outputs": [],
   "source": [
    "model_2A = model # Figure this out\n",
    "save_model_to_disk(model_2A, 'spectrogram_gender_model')"
   ]
  },
  {
   "cell_type": "code",
   "execution_count": null,
   "metadata": {},
   "outputs": [],
   "source": [
    "model_2B = # Figure this out\n",
    "save_model_to_disk(model_2B, 'spectrogram_digit_model')"
   ]
  }
 ],
 "metadata": {
  "kernelspec": {
   "display_name": "Python 3 (ipykernel)",
   "language": "python",
   "name": "python3"
  },
  "language_info": {
   "codemirror_mode": {
    "name": "ipython",
    "version": 3
   },
   "file_extension": ".py",
   "mimetype": "text/x-python",
   "name": "python",
   "nbconvert_exporter": "python",
   "pygments_lexer": "ipython3",
   "version": "3.10.12"
  }
 },
 "nbformat": 4,
 "nbformat_minor": 4
}
