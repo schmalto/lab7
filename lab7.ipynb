{
 "cells": [
  {
   "cell_type": "code",
   "execution_count": 1,
   "metadata": {},
   "outputs": [
    {
     "name": "stderr",
     "output_type": "stream",
     "text": [
      "2023-11-13 14:31:32.051062: E tensorflow/compiler/xla/stream_executor/cuda/cuda_dnn.cc:9342] Unable to register cuDNN factory: Attempting to register factory for plugin cuDNN when one has already been registered\n",
      "2023-11-13 14:31:32.051112: E tensorflow/compiler/xla/stream_executor/cuda/cuda_fft.cc:609] Unable to register cuFFT factory: Attempting to register factory for plugin cuFFT when one has already been registered\n",
      "2023-11-13 14:31:32.051141: E tensorflow/compiler/xla/stream_executor/cuda/cuda_blas.cc:1518] Unable to register cuBLAS factory: Attempting to register factory for plugin cuBLAS when one has already been registered\n",
      "2023-11-13 14:31:32.059405: I tensorflow/core/platform/cpu_feature_guard.cc:182] This TensorFlow binary is optimized to use available CPU instructions in performance-critical operations.\n",
      "To enable the following instructions: AVX2 FMA, in other operations, rebuild TensorFlow with the appropriate compiler flags.\n"
     ]
    }
   ],
   "source": [
    "import os\n",
    "import scipy\n",
    "import librosa\n",
    "import numpy as np\n",
    "import matplotlib.pyplot as plt\n",
    "import tensorflow.keras as keras\n",
    "from skimage.transform import resize\n",
    "from IPython.display import clear_output\n",
    "from matplotlib.ticker import MaxNLocator\n",
    "from keras.layers import Dense, Dropout, Flatten, Normalization, Conv1D, MaxPool1D, LSTM, Conv2D, MaxPool2D\n",
    "import sklearn\n",
    "from sklearn.preprocessing import OneHotEncoder\n",
    "from sklearn.model_selection import cross_val_score\n",
    "from tqdm import tqdm\n",
    "import tensorflow as tf\n",
    "tf.config.run_functions_eagerly(True)\n",
    "\n"
   ]
  },
  {
   "cell_type": "code",
   "execution_count": 2,
   "metadata": {},
   "outputs": [],
   "source": [
    "# our usual useful functions\n",
    "\n",
    "class PlotLossAccuracy(keras.callbacks.Callback):\n",
    "    def on_train_begin(self, logs={}):\n",
    "        self.i = 0\n",
    "        self.x = []\n",
    "        self.acc = []\n",
    "        self.losses = []\n",
    "        self.val_losses = []\n",
    "        self.val_acc = []\n",
    "        self.logs = []\n",
    "\n",
    "    def on_epoch_end(self, epoch, logs={}):\n",
    "\n",
    "        self.logs.append(logs)\n",
    "        self.x.append(int(self.i))\n",
    "        self.losses.append(logs.get('loss'))\n",
    "        self.val_losses.append(logs.get('val_loss'))\n",
    "        self.acc.append(logs.get('accuracy'))\n",
    "        self.val_acc.append(logs.get('val_accuracy'))\n",
    "\n",
    "        self.i += 1\n",
    "\n",
    "        clear_output(wait=True)\n",
    "        plt.figure(figsize=(16, 6))\n",
    "        plt.plot([1, 2])\n",
    "        plt.subplot(121)\n",
    "        plt.plot(self.x, self.losses, label=\"train loss\")\n",
    "        plt.plot(self.x, self.val_losses, label=\"validation loss\")\n",
    "        plt.gca().xaxis.set_major_locator(MaxNLocator(integer=True))\n",
    "        plt.ylabel('loss')\n",
    "        plt.xlabel('epoch')\n",
    "        plt.title('Model Loss')\n",
    "        plt.legend()\n",
    "        plt.subplot(122)\n",
    "        plt.plot(self.x, self.acc, label=\"training accuracy\")\n",
    "        plt.plot(self.x, self.val_acc, label=\"validation accuracy\")\n",
    "        plt.legend()\n",
    "        plt.ylabel('accuracy')\n",
    "        plt.xlabel('epoch')\n",
    "        plt.title('Model Accuracy')\n",
    "        plt.gca().xaxis.set_major_locator(MaxNLocator(integer=True))\n",
    "        plt.show();\n",
    "\n",
    "\n",
    "def save_model_to_disk(model, filename_base):\n",
    "    # save model and weights (don't change the filenames)\n",
    "    model_json = model.to_json()\n",
    "    with open(filename_base + \".json\", \"w\") as json_file:\n",
    "        json_file.write(model_json)\n",
    "    # serialize weights to HDF5\n",
    "    model.save_weights(f\"{filename_base}.h5\")\n",
    "    print(f\"Saved model to {filename_base}.json and weights to {filename_base}.h5\")"
   ]
  },
  {
   "cell_type": "code",
   "execution_count": 3,
   "metadata": {},
   "outputs": [],
   "source": [
    "x_d = np.load('xtrain.npy')\n",
    "y_num = np.load('ytrain_num.npy')\n",
    "y_gender = np.load('ytrain_gender.npy')\n",
    "x_s = np.load('x_spectrum_train.npy')\n"
   ]
  },
  {
   "cell_type": "code",
   "execution_count": 4,
   "metadata": {},
   "outputs": [],
   "source": [
    "def spectrum_data(audio_tracks):\n",
    "    X = np.empty((25000,128, 128))\n",
    "    for i, audio_track in enumerate(tqdm(audio_tracks)):        \n",
    "        f, t, Zxx = scipy.signal.stft(audio_track, 8000, nperseg=455, noverlap=393, window='hann')\n",
    "        Zxx_ = np.abs(Zxx[0:227, 2:-1])\n",
    "        Zxx_ = np.atleast_3d(Zxx_).transpose(2,0,1)\n",
    "        Zxx_ = librosa.amplitude_to_db(Zxx_, ref=np.max)\n",
    "        Zxx_ = resize(Zxx_, (1, 128, 128))\n",
    "        X[i] = Zxx_\n",
    "    return X\n",
    "\n"
   ]
  },
  {
   "cell_type": "code",
   "execution_count": 4,
   "metadata": {},
   "outputs": [],
   "source": [
    "def prepare_data(X,Y):\n",
    "    X_train, X_validation, Y_train, Y_validation = sklearn.model_selection.train_test_split(X, Y, test_size=.1)\n",
    "    one_hot_encoder = OneHotEncoder(sparse_output=False)\n",
    "    Y_train = one_hot_encoder.fit_transform(Y_train.reshape(-1, 1))\n",
    "    Y_validation = one_hot_encoder.fit_transform(Y_validation.reshape(-1, 1))\n",
    "    X_train = X_train.reshape(X_train.shape[0], X_train.shape[1], 128, 1)\n",
    "    X_validation = X_validation.reshape(X_validation.shape[0], X_validation.shape[1], 128, 1)\n",
    "    return X_train, X_validation, Y_train, Y_validation\n",
    "\n",
    "#X_train, X_validation, Y_train, Y_validation = prepare_data(x_d, y_gender)\n",
    "X_train_spectrum, X_validation_spectrum, Y_train, Y_validation = prepare_data(x_s, y_num)\n",
    "\n"
   ]
  },
  {
   "cell_type": "code",
   "execution_count": 5,
   "metadata": {},
   "outputs": [],
   "source": [
    "def scheduler(epoch, lr):\n",
    "    if epoch < 10:\n",
    "        return lr\n",
    "    else:\n",
    "        return lr * tf.math.exp(-0.1)\n",
    "c_schedule = tf.keras.callbacks.LearningRateScheduler(scheduler)"
   ]
  },
  {
   "cell_type": "markdown",
   "metadata": {},
   "source": [
    "**Exercise 1A**"
   ]
  },
  {
   "cell_type": "code",
   "execution_count": null,
   "metadata": {},
   "outputs": [],
   "source": [
    "inputs = keras.layers.Input(shape=(8000,1))\n",
    "x = inputs\n",
    "\n",
    "x = Conv1D(16, 3, activation='relu', strides=(1))(x)\n",
    "x = Conv1D(16, 3, activation='relu', strides=(1))(x)\n",
    "x = Conv1D(16, 3, activation='relu', strides=(1))(x)\n",
    "x = MaxPool1D(4, name='second_layer')(x)\n",
    "x = Dropout(0.25)(x)\n",
    "\n",
    "x = Conv1D(8, 3, activation='relu', strides=(1))(x)\n",
    "x = Conv1D(8, 3, activation='relu', strides=(1))(x)\n",
    "x = Conv1D(8, 3, activation='relu', strides=(1))(x)\n",
    "x = MaxPool1D(2, name='end_layer')(x)\n",
    "x = Dropout(0.25)(x)\n",
    "\n",
    "x = Flatten()(x)\n",
    "\n",
    "x = Dropout(0.25)(x)\n",
    "x = Dense(6, activation='relu')(x)\n",
    "\n",
    "predictions = Dense(2, activation='sigmoid')(x)\n",
    "\n",
    "model = keras.models.Model(inputs=inputs, outputs=predictions)\n",
    "opt = keras.optimizers.Adam(learning_rate=0.0001)\n",
    "model.compile(optimizer=opt,\n",
    "                    loss='binary_crossentropy',\n",
    "                    metrics=['accuracy'])\n",
    "model.summary()"
   ]
  },
  {
   "cell_type": "markdown",
   "metadata": {},
   "source": [
    "**Exercise 1B**"
   ]
  },
  {
   "cell_type": "code",
   "execution_count": null,
   "metadata": {},
   "outputs": [],
   "source": [
    "inputs = keras.layers.Input(shape=(8000,1))\n",
    "x = inputs  # Don't flatten until after your 2D layers\n",
    "print(x.shape)\n",
    "x = Conv1D(64, 3, activation='relu', strides=(1))(x)\n",
    "x = Conv1D(64, 3, activation='relu', strides=(1))(x)\n",
    "x = Conv1D(64, 3, activation='relu', strides=(1))(x)\n",
    "x = MaxPool1D(4, name='first_layer')(x)\n",
    "  #x = Dropout(0.25)(x)\n",
    "x = Dropout(0.25)(x)\n",
    "\n",
    "\n",
    "x = Conv1D(32, 3, activation='relu', strides=(1))(x)\n",
    "x = Conv1D(32, 3, activation='relu', strides=(1))(x)\n",
    "x = Conv1D(32, 3, activation='relu', strides=(1))(x)\n",
    "x = MaxPool1D(4, name='second_layer')(x)\n",
    "x = Dropout(0.25)(x)\n",
    "\n",
    "\n",
    "x = Conv1D(8, 3, activation='relu', strides=(1))(x)\n",
    "x = Conv1D(8, 3, activation='relu', strides=(1))(x)\n",
    "x = Conv1D(8, 3, activation='relu', strides=(1))(x)\n",
    "x = MaxPool1D(4, name='end_layer')(x)\n",
    "x = Dropout(0.25)(x)\n",
    "\n",
    "x = Flatten()(x)\n",
    "print(x.shape)\n",
    "#x = Dense(512, activation='relu')(x)\n",
    "x = Dense(24, activation='relu')(x)\n",
    "#x = Dropout(0.5)(x)\n",
    "x = Dropout(0.3)(x)\n",
    "#x = Dense(128, activation='relu')(x)\n",
    "x = Dense(16, activation='relu')(x)\n",
    "x = Dropout(0.25)(x)\n",
    "x = Dense(16, activation='relu')(x)\n",
    "\n",
    "\n",
    "predictions = Dense(10, activation='softmax')(x)\n",
    "\n",
    "model = keras.models.Model(inputs=inputs, outputs=predictions)\n",
    "opt = keras.optimizers.Adam(learning_rate=0.0001)\n",
    "model.compile(optimizer=opt,\n",
    "                    loss='categorical_crossentropy',\n",
    "                    metrics=['accuracy'])\n",
    "model.summary()"
   ]
  },
  {
   "cell_type": "markdown",
   "metadata": {
    "slideshow": {
     "slide_type": "notes"
    }
   },
   "source": [
    "** LSTM **"
   ]
  },
  {
   "cell_type": "code",
   "execution_count": null,
   "metadata": {},
   "outputs": [],
   "source": [
    "print(X_train_spectrum.shape)\n",
    "inputs = keras.layers.Input(shape=(8000,1,1))\n",
    "x = inputs\n",
    "\n",
    "x = LSTM(16, return_sequences=True)(inputs)\n",
    "x = LSTM(8)(x)\n",
    "\n",
    "x = Flatten()(x)\n",
    "\n",
    "#x = Dropout(0.25)(x)\n",
    "#x = Dense(16, activation='relu')(x)\n",
    "#x = Dense(8, activation='relu')(x)\n",
    "#x = Dense(4, activation='relu')(x)\n",
    "\n",
    "\n",
    "predictions = Dense(2, activation='sigmoid')(x)\n",
    "\n",
    "model = keras.models.Model(inputs=inputs, outputs=predictions)\n",
    "opt = keras.optimizers.Adam(learning_rate=0.001)\n",
    "model.compile(optimizer=opt,\n",
    "                    loss='binary_crossentropy',\n",
    "                    metrics=['accuracy'])\n",
    "model.summary()"
   ]
  },
  {
   "cell_type": "markdown",
   "metadata": {},
   "source": [
    "** Exercise 2A **"
   ]
  },
  {
   "cell_type": "code",
   "execution_count": 17,
   "metadata": {},
   "outputs": [
    {
     "name": "stdout",
     "output_type": "stream",
     "text": [
      "Model: \"model_1\"\n",
      "_________________________________________________________________\n",
      " Layer (type)                Output Shape              Param #   \n",
      "=================================================================\n",
      " input_4 (InputLayer)        [(None, 128, 128, 1)]     0         \n",
      "                                                                 \n",
      " conv2d_6 (Conv2D)           (None, 126, 126, 16)      160       \n",
      "                                                                 \n",
      " conv2d_7 (Conv2D)           (None, 124, 124, 16)      2320      \n",
      "                                                                 \n",
      " conv2d_8 (Conv2D)           (None, 122, 122, 16)      2320      \n",
      "                                                                 \n",
      " second_layer (MaxPooling2D  (None, 30, 30, 16)        0         \n",
      " )                                                               \n",
      "                                                                 \n",
      " dropout_3 (Dropout)         (None, 30, 30, 16)        0         \n",
      "                                                                 \n",
      " conv2d_9 (Conv2D)           (None, 28, 28, 8)         1160      \n",
      "                                                                 \n",
      " conv2d_10 (Conv2D)          (None, 26, 26, 8)         584       \n",
      "                                                                 \n",
      " conv2d_11 (Conv2D)          (None, 24, 24, 8)         584       \n",
      "                                                                 \n",
      " end_layer (MaxPooling2D)    (None, 12, 12, 8)         0         \n",
      "                                                                 \n",
      " dropout_4 (Dropout)         (None, 12, 12, 8)         0         \n",
      "                                                                 \n",
      " flatten_1 (Flatten)         (None, 1152)              0         \n",
      "                                                                 \n",
      " dropout_5 (Dropout)         (None, 1152)              0         \n",
      "                                                                 \n",
      " dense_2 (Dense)             (None, 8)                 9224      \n",
      "                                                                 \n",
      " dense_3 (Dense)             (None, 2)                 18        \n",
      "                                                                 \n",
      "=================================================================\n",
      "Total params: 16370 (63.95 KB)\n",
      "Trainable params: 16370 (63.95 KB)\n",
      "Non-trainable params: 0 (0.00 Byte)\n",
      "_________________________________________________________________\n"
     ]
    }
   ],
   "source": [
    "inputs = keras.layers.Input(shape=(128,128,1))\n",
    "x = inputs\n",
    "\n",
    "x = Conv2D(16, 3, activation='relu', strides=(1))(x)\n",
    "x = Conv2D(16, 3, activation='relu', strides=(1))(x)\n",
    "x = Conv2D(16, 3, activation='relu', strides=(1))(x)\n",
    "x = MaxPool2D(4, name='second_layer')(x)\n",
    "x = Dropout(0.25)(x)\n",
    "\n",
    "x = Conv2D(8, 3, activation='relu', strides=(1))(x)\n",
    "x = Conv2D(8, 3, activation='relu', strides=(1))(x)\n",
    "x = Conv2D(8, 3, activation='relu', strides=(1))(x)\n",
    "x = MaxPool2D(2, name='end_layer')(x)\n",
    "x = Dropout(0.25)(x)\n",
    "\n",
    "x = Flatten()(x)\n",
    "\n",
    "x = Dropout(0.225)(x)\n",
    "x = Dense(8, activation='relu')(x)\n",
    "#x = Dropout(0.25)(x)\n",
    "#x = Dense(4, activation='sigmoid')(x)\n",
    "\n",
    "predictions = Dense(2, activation='sigmoid')(x)\n",
    "\n",
    "model = keras.models.Model(inputs=inputs, outputs=predictions)\n",
    "opt = keras.optimizers.Adam(learning_rate=0.001)\n",
    "model.compile(optimizer=opt,\n",
    "                    loss='binary_crossentropy',\n",
    "                    metrics=['accuracy'])\n",
    "model.summary()"
   ]
  },
  {
   "cell_type": "markdown",
   "metadata": {},
   "source": [
    "** Aufgabe 2B **"
   ]
  },
  {
   "cell_type": "code",
   "execution_count": 9,
   "metadata": {},
   "outputs": [
    {
     "name": "stdout",
     "output_type": "stream",
     "text": [
      "Model: \"model_1\"\n",
      "_________________________________________________________________\n",
      " Layer (type)                Output Shape              Param #   \n",
      "=================================================================\n",
      " input_2 (InputLayer)        [(None, 128, 128, 1)]     0         \n",
      "                                                                 \n",
      " conv2d_9 (Conv2D)           (None, 127, 127, 64)      320       \n",
      "                                                                 \n",
      " conv2d_10 (Conv2D)          (None, 126, 126, 64)      16448     \n",
      "                                                                 \n",
      " conv2d_11 (Conv2D)          (None, 125, 125, 64)      16448     \n",
      "                                                                 \n",
      " first_layer (MaxPooling2D)  (None, 62, 62, 64)        0         \n",
      "                                                                 \n",
      " dropout_4 (Dropout)         (None, 62, 62, 64)        0         \n",
      "                                                                 \n",
      " conv2d_12 (Conv2D)          (None, 61, 61, 32)        8224      \n",
      "                                                                 \n",
      " conv2d_13 (Conv2D)          (None, 60, 60, 32)        4128      \n",
      "                                                                 \n",
      " conv2d_14 (Conv2D)          (None, 59, 59, 32)        4128      \n",
      "                                                                 \n",
      " second_layer (MaxPooling2D  (None, 29, 29, 32)        0         \n",
      " )                                                               \n",
      "                                                                 \n",
      " dropout_5 (Dropout)         (None, 29, 29, 32)        0         \n",
      "                                                                 \n",
      " conv2d_15 (Conv2D)          (None, 28, 28, 8)         1032      \n",
      "                                                                 \n",
      " conv2d_16 (Conv2D)          (None, 27, 27, 8)         264       \n",
      "                                                                 \n",
      " conv2d_17 (Conv2D)          (None, 26, 26, 8)         264       \n",
      "                                                                 \n",
      " end_layer (MaxPooling2D)    (None, 13, 13, 8)         0         \n",
      "                                                                 \n",
      " dropout_6 (Dropout)         (None, 13, 13, 8)         0         \n",
      "                                                                 \n",
      " flatten_1 (Flatten)         (None, 1352)              0         \n",
      "                                                                 \n",
      " dropout_7 (Dropout)         (None, 1352)              0         \n",
      "                                                                 \n",
      " dense_3 (Dense)             (None, 32)                43296     \n",
      "                                                                 \n",
      " dense_4 (Dense)             (None, 32)                1056      \n",
      "                                                                 \n",
      " dense_5 (Dense)             (None, 10)                330       \n",
      "                                                                 \n",
      "=================================================================\n",
      "Total params: 95938 (374.76 KB)\n",
      "Trainable params: 95938 (374.76 KB)\n",
      "Non-trainable params: 0 (0.00 Byte)\n",
      "_________________________________________________________________\n"
     ]
    }
   ],
   "source": [
    "inputs = keras.layers.Input(shape=(128,128,1))\n",
    "x = inputs\n",
    "\n",
    "x = Conv2D(64, 2, activation='relu', strides=(1))(x)\n",
    "x = Conv2D(64, 2, activation='relu', strides=(1))(x)\n",
    "x = Conv2D(64, 2, activation='relu', strides=(1))(x)\n",
    "x = MaxPool2D(2, name='first_layer')(x)\n",
    "  #x = Dropout(0.25)(x)\n",
    "x = Dropout(0.25)(x)\n",
    "\n",
    "\n",
    "x = Conv2D(32, 2, activation='relu', strides=(1))(x)\n",
    "x = Conv2D(32, 2, activation='relu', strides=(1))(x)\n",
    "x = Conv2D(32, 2, activation='relu', strides=(1))(x)\n",
    "x = MaxPool2D(2, name='second_layer')(x)\n",
    "x = Dropout(0.25)(x)\n",
    "\n",
    "\n",
    "x = Conv2D(8, 2, activation='relu', strides=(1))(x)\n",
    "x = Conv2D(8, 2, activation='relu', strides=(1))(x)\n",
    "x = Conv2D(8, 2, activation='relu', strides=(1))(x)\n",
    "x = MaxPool2D(2, name='end_layer')(x)\n",
    "x = Dropout(0.25)(x)\n",
    "\n",
    "x = Flatten()(x)\n",
    "\n",
    "x = Dropout(0.225)(x)\n",
    "x = Dense(32, activation='relu')(x)\n",
    "x = Dense(32, activation='relu')(x)\n",
    "#x = Dropout(0.25)(x)\n",
    "#x = Dense(4, activation='sigmoid')(x)\n",
    "\n",
    "predictions = Dense(10, activation='softmax')(x)\n",
    "\n",
    "model = keras.models.Model(inputs=inputs, outputs=predictions)\n",
    "opt = keras.optimizers.Adam(learning_rate=0.001)\n",
    "model.compile(optimizer=opt,\n",
    "                    loss='categorical_crossentropy',\n",
    "                    metrics=['accuracy'])\n",
    "model.summary()"
   ]
  },
  {
   "cell_type": "code",
   "execution_count": null,
   "metadata": {},
   "outputs": [
    {
     "data": {
      "image/png": "[encoded data removed]",
      "text/plain": [
       "<Figure size 1600x600 with 3 Axes>"
      ]
     },
     "metadata": {},
     "output_type": "display_data"
    },
    {
     "name": "stdout",
     "output_type": "stream",
     "text": [
      "352/352 [==============================] - 50s 141ms/step - loss: 0.0252 - accuracy: 0.9917 - val_loss: 0.0140 - val_accuracy: 0.9964 - lr: 1.8458e-08\n",
      "Epoch 120/300\n",
      " 43/352 [==>...........................] - ETA: 39s - loss: 0.0168 - accuracy: 0.9949"
     ]
    }
   ],
   "source": [
    "num_epochs = 300\n",
    "pltCallBack = PlotLossAccuracy()\n",
    "model.fit(X_train_spectrum, Y_train,\n",
    "        batch_size=64, epochs=num_epochs,\n",
    "        validation_data=(X_validation_spectrum, Y_validation),\n",
    "        callbacks=[pltCallBack, c_schedule])\n"
   ]
  },
  {
   "cell_type": "code",
   "execution_count": null,
   "metadata": {},
   "outputs": [],
   "source": [
    "model_1A =  # Figure this out\n",
    "save_model_to_disk(model_1A, 'waveform_gender_model')"
   ]
  },
  {
   "cell_type": "code",
   "execution_count": null,
   "metadata": {},
   "outputs": [],
   "source": [
    "model_1B = # Figure this out\n",
    "save_model_to_disk(model_1B, 'waveform_digit_model')"
   ]
  },
  {
   "cell_type": "code",
   "execution_count": 19,
   "metadata": {},
   "outputs": [
    {
     "name": "stdout",
     "output_type": "stream",
     "text": [
      "Saved model to spectrogram_gender_model.json and weights to spectrogram_gender_model.h5\n"
     ]
    }
   ],
   "source": [
    "model_2A =  # Figure this out\n",
    "save_model_to_disk(model_2A, 'spectrogram_gender_model')"
   ]
  },
  {
   "cell_type": "code",
   "execution_count": 31,
   "metadata": {},
   "outputs": [
    {
     "name": "stdout",
     "output_type": "stream",
     "text": [
      "Saved model to spectrogram_digit_model.json and weights to spectrogram_digit_model.h5\n"
     ]
    }
   ],
   "source": [
    "model_2B = model# Figure this out\n",
    "save_model_to_disk(model_2B, 'spectrogram_digit_model')"
   ]
  },
  {
   "cell_type": "code",
   "execution_count": null,
   "metadata": {},
   "outputs": [],
   "source": []
  }
 ],
 "metadata": {
  "kernelspec": {
   "display_name": "Python 3 (ipykernel)",
   "language": "python",
   "name": "python3"
  },
  "language_info": {
   "codemirror_mode": {
    "name": "ipython",
    "version": 3
   },
   "file_extension": ".py",
   "mimetype": "text/x-python",
   "name": "python",
   "nbconvert_exporter": "python",
   "pygments_lexer": "ipython3",
   "version": "3.11.0rc1"
  }
 },
 "nbformat": 4,
 "nbformat_minor": 4
}
